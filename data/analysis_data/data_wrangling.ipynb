{
 "cells": [
  {
   "cell_type": "markdown",
   "id": "ef825ee3",
   "metadata": {},
   "source": [
    "# Resident Population"
   ]
  },
  {
   "cell_type": "code",
   "execution_count": null,
   "id": "92b71538",
   "metadata": {},
   "outputs": [],
   "source": [
    "import pandas as pd\n",
    "\n",
    "states = [\n",
    "    \"Alabama\", \"Alaska\", \"Arizona\", \"Arkansas\", \"California\", \"Colorado\", \"Connecticut\", \"Delaware\",\n",
    "    \"District of Columbia\", \"Florida\", \"Georgia\", \"Hawaii\", \"Idaho\", \"Illinois\", \"Indiana\", \"Iowa\",\n",
    "    \"Kansas\", \"Kentucky\", \"Louisiana\", \"Maine\", \"Maryland\", \"Massachusetts\", \"Michigan\", \"Minnesota\",\n",
    "    \"Mississippi\", \"Missouri\", \"Montana\", \"Nebraska\", \"Nevada\", \"New Hampshire\", \"New Jersey\", \n",
    "    \"New Mexico\", \"New York\", \"North Carolina\", \"North Dakota\", \"Ohio\", \"Oklahoma\", \"Oregon\", \n",
    "    \"Pennsylvania\", \"Rhode Island\", \"South Carolina\", \"South Dakota\", \"Tennessee\", \"Texas\", \"Utah\",\n",
    "    \"Vermont\", \"Virginia\", \"Washington\", \"West Virginia\", \"Wisconsin\", \"Wyoming\"\n",
    "]\n",
    "\n",
    "pop_list = []\n",
    "for state in states:\n",
    "    file = f\"../input_data/Resident Population in {state}.csv\"\n",
    "    df = pd.read_csv(file)\n",
    "    df = df.rename(columns={df.columns[0]: 'year', df.columns[1]: 'population'})\n",
    "    df['state'] = state\n",
    "    pop_list.append(df)\n",
    "df_pop = pd.concat(pop_list, ignore_index=True)\n",
    "def extract_year(val):\n",
    "    try:\n",
    "        return int(val)\n",
    "    except:\n",
    "        return int(str(val)[:4])\n",
    "\n",
    "df_pop['year'] = df_pop['year'].apply(extract_year)\n"
   ]
  },
  {
   "cell_type": "markdown",
   "id": "626f3068",
   "metadata": {},
   "source": [
    "# Stack Real Median Household Income"
   ]
  },
  {
   "cell_type": "code",
   "execution_count": null,
   "id": "df1a38d3",
   "metadata": {},
   "outputs": [],
   "source": [
    "income_list = []\n",
    "for state in states:\n",
    "    file = f\"../input_data/Real Median Household Income in {state}.csv\"\n",
    "    df = pd.read_csv(file)\n",
    "    df = df.rename(columns={df.columns[0]: 'year', df.columns[1]: 'median_income'})\n",
    "    df['state'] = state\n",
    "    income_list.append(df)\n",
    "df_income = pd.concat(income_list, ignore_index=True)\n",
    "df_pop['year'] = df_pop['year'].apply(extract_year)\n",
    "df_income['year'] = df_income['year'].apply(extract_year)\n",
    "\n",
    "df_annual = pd.merge(df_pop, df_income, on=['state', 'year'], how='outer')"
   ]
  },
  {
   "cell_type": "markdown",
   "id": "cb49860e",
   "metadata": {},
   "source": [
    "# Expand Annual Data to Monthly"
   ]
  },
  {
   "cell_type": "code",
   "execution_count": null,
   "id": "b1cd2728",
   "metadata": {},
   "outputs": [],
   "source": [
    "min_year, max_year = df_annual['year'].min(), df_annual['year'].max()\n",
    "months = pd.date_range(f'{min_year}-01-01', f'{max_year}-12-01', freq='MS')\n",
    "all_state_months = pd.MultiIndex.from_product([states, months], names=['state', 'month']).to_frame(index=False)\n",
    "all_state_months['year'] = all_state_months['month'].dt.year\n",
    "\n",
    "# Merge annual data into monthly grid\n",
    "df_monthly = pd.merge(all_state_months, df_annual, on=['state', 'year'], how='left')\n",
    "df_monthly = df_monthly.sort_values(['state', 'month'])\n",
    "df_monthly[['population', 'median_income']] = (\n",
    "    df_monthly.groupby('state')[['population', 'median_income']].fillna(method='ffill')\n",
    ")"
   ]
  },
  {
   "cell_type": "code",
   "execution_count": null,
   "id": "39346638",
   "metadata": {},
   "outputs": [],
   "source": [
    "df_monthly['month'] = pd.to_datetime(df_monthly['month'])\n",
    "\n",
    "start_date = '1987-01-01'\n",
    "end_date = '2024-12-01'\n",
    "\n",
    "df_monthly = df_monthly[(df_monthly['month'] >= start_date) & (df_monthly['month'] <= end_date)]"
   ]
  },
  {
   "cell_type": "markdown",
   "id": "84da05c0",
   "metadata": {},
   "source": [
    "# Unemployment Rate"
   ]
  },
  {
   "cell_type": "code",
   "execution_count": null,
   "id": "729d9cd2",
   "metadata": {},
   "outputs": [],
   "source": [
    "df_unemp = pd.read_csv(\"../input_data/Unemployment Rate_1976.csv\")\n",
    "df_unemp['year'] = pd.to_datetime(df_unemp['Year'].astype(str) + '-' + df_unemp['Month'].astype(str).str.zfill(2) + '-01')\n",
    "df_unemp = df_unemp[(df_unemp['year'] >= '1987-01-01') & (df_unemp['year'] <= '2024-12-01')]\n",
    "df_unemp = df_unemp.rename(columns={\n",
    "    'State': 'state',\n",
    "    'Unemployment Rate': 'unemployment_rate'\n",
    "})\n",
    "df_unemp = df_unemp[['state', 'year', 'unemployment_rate']]"
   ]
  },
  {
   "cell_type": "code",
   "execution_count": null,
   "id": "1309fed4",
   "metadata": {},
   "outputs": [],
   "source": [
    "df_unemp = df_unemp.reset_index(drop=True)\n",
    "df_unemp = df_unemp.rename(columns={'year': 'month'})\n",
    "df_final = pd.merge(df_monthly, df_unemp, on=['state', 'month'], how='left')"
   ]
  },
  {
   "cell_type": "markdown",
   "id": "3ffec77a",
   "metadata": {},
   "source": [
    "# Initial Claims"
   ]
  },
  {
   "cell_type": "code",
   "execution_count": null,
   "id": "a7015bf7",
   "metadata": {},
   "outputs": [],
   "source": [
    "files = [\n",
    "    \"../input_data/Initial Claims_Alabama_to_Iowa.csv\",\n",
    "    \"../input_data/Initial Claims_Kansas_to_Oklahoma.csv\",\n",
    "    \"../input_data/Initial Claims_Oregan_to_PuertoRico.csv\"\n",
    "]\n",
    "claims_list = [pd.read_csv(file) for file in files]\n",
    "df_claims = pd.concat(claims_list, ignore_index=True)\n",
    "\n",
    "df_claims = df_claims.rename(columns={\n",
    "    'State': 'state',\n",
    "    'Filed week ended': 'filed_week_ended',\n",
    "    'Initial Claims': 'initial_claims'\n",
    "})\n",
    "\n",
    "df_claims['filed_week_ended'] = pd.to_datetime(df_claims['filed_week_ended'])"
   ]
  },
  {
   "cell_type": "code",
   "execution_count": null,
   "id": "4656d547",
   "metadata": {},
   "outputs": [],
   "source": [
    "df_claims.isnull().sum()"
   ]
  },
  {
   "cell_type": "code",
   "execution_count": null,
   "id": "824b22f6",
   "metadata": {},
   "outputs": [],
   "source": [
    "df_claims['initial_claims'] = df_claims['initial_claims'].replace(',', '', regex=True).astype(int)\n",
    "\n",
    "df_claims['month'] = df_claims['filed_week_ended'].values.astype('datetime64[M]')\n",
    "df_claims_monthly = (\n",
    "    df_claims.groupby(['state', 'month'], as_index=False)['initial_claims'].sum()\n",
    ")\n",
    "df_final = pd.merge(df_final, df_claims_monthly, on=['state', 'month'], how='left')"
   ]
  },
  {
   "cell_type": "code",
   "execution_count": null,
   "id": "3784382e",
   "metadata": {},
   "outputs": [],
   "source": [
    "df_final.head()"
   ]
  }
 ],
 "metadata": {
  "kernelspec": {
   "display_name": "new_env",
   "language": "python",
   "name": "python3"
  },
  "language_info": {
   "codemirror_mode": {
    "name": "ipython",
    "version": 3
   },
   "file_extension": ".py",
   "mimetype": "text/x-python",
   "name": "python",
   "nbconvert_exporter": "python",
   "pygments_lexer": "ipython3",
   "version": "3.13.5"
  }
 },
 "nbformat": 4,
 "nbformat_minor": 5
}
