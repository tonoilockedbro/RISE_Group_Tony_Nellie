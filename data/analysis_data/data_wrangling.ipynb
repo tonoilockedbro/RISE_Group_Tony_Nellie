{
 "cells": [
  {
   "cell_type": "markdown",
   "id": "ef825ee3",
   "metadata": {},
   "source": [
    "# Resident Population"
   ]
  },
  {
   "cell_type": "code",
   "execution_count": 1,
   "id": "92b71538",
   "metadata": {},
   "outputs": [],
   "source": [
    "import pandas as pd\n",
    "\n",
    "states = [\n",
    "    \"Alabama\", \"Alaska\", \"Arizona\", \"Arkansas\", \"California\", \"Colorado\", \"Connecticut\", \"Delaware\",\n",
    "    \"District of Columbia\", \"Florida\", \"Georgia\", \"Hawaii\", \"Idaho\", \"Illinois\", \"Indiana\", \"Iowa\",\n",
    "    \"Kansas\", \"Kentucky\", \"Louisiana\", \"Maine\", \"Maryland\", \"Massachusetts\", \"Michigan\", \"Minnesota\",\n",
    "    \"Mississippi\", \"Missouri\", \"Montana\", \"Nebraska\", \"Nevada\", \"New Hampshire\", \"New Jersey\", \n",
    "    \"New Mexico\", \"New York\", \"North Carolina\", \"North Dakota\", \"Ohio\", \"Oklahoma\", \"Oregon\", \n",
    "    \"Pennsylvania\", \"Rhode Island\", \"South Carolina\", \"South Dakota\", \"Tennessee\", \"Texas\", \"Utah\",\n",
    "    \"Vermont\", \"Virginia\", \"Washington\", \"West Virginia\", \"Wisconsin\", \"Wyoming\"\n",
    "]\n",
    "\n",
    "pop_list = []\n",
    "for state in states:\n",
    "    file = f\"../input_data/Resident Population in {state}.csv\"\n",
    "    df = pd.read_csv(file)\n",
    "    df = df.rename(columns={df.columns[0]: 'year', df.columns[1]: 'population'})\n",
    "    df['state'] = state\n",
    "    pop_list.append(df)\n",
    "df_pop = pd.concat(pop_list, ignore_index=True)\n",
    "def extract_year(val):\n",
    "    try:\n",
    "        return int(val)\n",
    "    except:\n",
    "        return int(str(val)[:4])\n",
    "\n",
    "df_pop['year'] = df_pop['year'].apply(extract_year)\n"
   ]
  },
  {
   "cell_type": "markdown",
   "id": "626f3068",
   "metadata": {},
   "source": [
    "# Stack Real Median Household Income"
   ]
  },
  {
   "cell_type": "code",
   "execution_count": 2,
   "id": "df1a38d3",
   "metadata": {},
   "outputs": [],
   "source": [
    "income_list = []\n",
    "for state in states:\n",
    "    file = f\"../input_data/Real Median Household Income in {state}.csv\"\n",
    "    df = pd.read_csv(file)\n",
    "    df = df.rename(columns={df.columns[0]: 'year', df.columns[1]: 'median_income'})\n",
    "    df['state'] = state\n",
    "    income_list.append(df)\n",
    "df_income = pd.concat(income_list, ignore_index=True)\n",
    "df_pop['year'] = df_pop['year'].apply(extract_year)\n",
    "df_income['year'] = df_income['year'].apply(extract_year)\n",
    "\n",
    "df_annual = pd.merge(df_pop, df_income, on=['state', 'year'], how='outer')"
   ]
  },
  {
   "cell_type": "markdown",
   "id": "cb49860e",
   "metadata": {},
   "source": [
    "# Expand Annual Data to Monthly"
   ]
  },
  {
   "cell_type": "code",
   "execution_count": 3,
   "id": "b1cd2728",
   "metadata": {},
   "outputs": [
    {
     "name": "stderr",
     "output_type": "stream",
     "text": [
      "C:\\Users\\nelli\\AppData\\Local\\Temp\\ipykernel_31796\\682493939.py:10: FutureWarning: DataFrameGroupBy.fillna is deprecated and will be removed in a future version. Use obj.ffill() or obj.bfill() for forward or backward filling instead. If you want to fill with a single value, use DataFrame.fillna instead\n",
      "  df_monthly.groupby('state')[['population', 'median_income']].fillna(method='ffill')\n",
      "C:\\Users\\nelli\\AppData\\Local\\Temp\\ipykernel_31796\\682493939.py:10: FutureWarning: DataFrame.fillna with 'method' is deprecated and will raise in a future version. Use obj.ffill() or obj.bfill() instead.\n",
      "  df_monthly.groupby('state')[['population', 'median_income']].fillna(method='ffill')\n"
     ]
    }
   ],
   "source": [
    "min_year, max_year = df_annual['year'].min(), df_annual['year'].max()\n",
    "months = pd.date_range(f'{min_year}-01-01', f'{max_year}-12-01', freq='MS')\n",
    "all_state_months = pd.MultiIndex.from_product([states, months], names=['state', 'month']).to_frame(index=False)\n",
    "all_state_months['year'] = all_state_months['month'].dt.year\n",
    "\n",
    "# Merge annual data into monthly grid\n",
    "df_monthly = pd.merge(all_state_months, df_annual, on=['state', 'year'], how='left')\n",
    "df_monthly = df_monthly.sort_values(['state', 'month'])\n",
    "df_monthly[['population', 'median_income']] = (\n",
    "    df_monthly.groupby('state')[['population', 'median_income']].fillna(method='ffill')\n",
    ")"
   ]
  },
  {
   "cell_type": "code",
   "execution_count": 4,
   "id": "39346638",
   "metadata": {},
   "outputs": [],
   "source": [
    "df_monthly['month'] = pd.to_datetime(df_monthly['month'])\n",
    "\n",
    "start_date = '1987-01-01'\n",
    "end_date = '2024-12-01'\n",
    "\n",
    "df_monthly = df_monthly[(df_monthly['month'] >= start_date) & (df_monthly['month'] <= end_date)]"
   ]
  },
  {
   "cell_type": "markdown",
   "id": "84da05c0",
   "metadata": {},
   "source": [
    "# Unemployment Rate"
   ]
  },
  {
   "cell_type": "code",
   "execution_count": 5,
   "id": "729d9cd2",
   "metadata": {},
   "outputs": [],
   "source": [
    "df_unemp = pd.read_csv(\"../input_data/Unemployment Rate_1976.csv\")\n",
    "df_unemp['year'] = pd.to_datetime(df_unemp['Year'].astype(str) + '-' + df_unemp['Month'].astype(str).str.zfill(2) + '-01')\n",
    "df_unemp = df_unemp[(df_unemp['year'] >= '1987-01-01') & (df_unemp['year'] <= '2024-12-01')]\n",
    "df_unemp = df_unemp.rename(columns={\n",
    "    'State': 'state',\n",
    "    'Unemployment Rate': 'unemployment_rate'\n",
    "})\n",
    "df_unemp = df_unemp[['state', 'year', 'unemployment_rate']]"
   ]
  },
  {
   "cell_type": "code",
   "execution_count": 6,
   "id": "1309fed4",
   "metadata": {},
   "outputs": [],
   "source": [
    "df_unemp = df_unemp.reset_index(drop=True)\n",
    "df_unemp = df_unemp.rename(columns={'year': 'month'})\n",
    "df_final = pd.merge(df_monthly, df_unemp, on=['state', 'month'], how='left')"
   ]
  },
  {
   "cell_type": "markdown",
   "id": "3ffec77a",
   "metadata": {},
   "source": [
    "# Initial Claims"
   ]
  },
  {
   "cell_type": "code",
   "execution_count": 7,
   "id": "a7015bf7",
   "metadata": {},
   "outputs": [],
   "source": [
    "files = [\n",
    "    \"../input_data/Initial Claims_Alabama_to_Iowa.csv\",\n",
    "    \"../input_data/Initial Claims_Kansas_to_Oklahoma.csv\",\n",
    "    \"../input_data/Initial Claims_Oregan_to_PuertoRico.csv\"\n",
    "]\n",
    "claims_list = [pd.read_csv(file) for file in files]\n",
    "df_claims = pd.concat(claims_list, ignore_index=True)\n",
    "\n",
    "df_claims = df_claims.rename(columns={\n",
    "    'State': 'state',\n",
    "    'Filed week ended': 'filed_week_ended',\n",
    "    'Initial Claims': 'initial_claims'\n",
    "})\n",
    "\n",
    "df_claims['filed_week_ended'] = pd.to_datetime(df_claims['filed_week_ended'])"
   ]
  },
  {
   "cell_type": "code",
   "execution_count": 8,
   "id": "4656d547",
   "metadata": {},
   "outputs": [
    {
     "data": {
      "text/plain": [
       "state               3\n",
       "filed_week_ended    6\n",
       "initial_claims      6\n",
       "dtype: int64"
      ]
     },
     "execution_count": 8,
     "metadata": {},
     "output_type": "execute_result"
    }
   ],
   "source": [
    "df_claims.isnull().sum()"
   ]
  },
  {
   "cell_type": "code",
   "execution_count": 10,
   "id": "824b22f6",
   "metadata": {},
   "outputs": [],
   "source": [
    "df_claims['initial_claims'] = (\n",
    "    df_claims['initial_claims']\n",
    "    .replace(',', '', regex=True)\n",
    "    .fillna(0)\n",
    "    .astype(int)\n",
    ")\n",
    "\n",
    "df_claims['initial_claims'] = df_claims['initial_claims'].replace(',', '', regex=True).astype(int)\n",
    "\n",
    "df_claims['month'] = df_claims['filed_week_ended'].values.astype('datetime64[M]')\n",
    "df_claims_monthly = (\n",
    "    df_claims.groupby(['state', 'month'], as_index=False)['initial_claims'].sum()\n",
    ")\n",
    "df_final = pd.merge(df_final, df_claims_monthly, on=['state', 'month'], how='left')"
   ]
  },
  {
   "cell_type": "code",
   "execution_count": 11,
   "id": "3784382e",
   "metadata": {},
   "outputs": [
    {
     "data": {
      "text/html": [
       "<div>\n",
       "<style scoped>\n",
       "    .dataframe tbody tr th:only-of-type {\n",
       "        vertical-align: middle;\n",
       "    }\n",
       "\n",
       "    .dataframe tbody tr th {\n",
       "        vertical-align: top;\n",
       "    }\n",
       "\n",
       "    .dataframe thead th {\n",
       "        text-align: right;\n",
       "    }\n",
       "</style>\n",
       "<table border=\"1\" class=\"dataframe\">\n",
       "  <thead>\n",
       "    <tr style=\"text-align: right;\">\n",
       "      <th></th>\n",
       "      <th>state</th>\n",
       "      <th>month</th>\n",
       "      <th>year</th>\n",
       "      <th>population</th>\n",
       "      <th>median_income</th>\n",
       "      <th>unemployment_rate</th>\n",
       "      <th>initial_claims</th>\n",
       "    </tr>\n",
       "  </thead>\n",
       "  <tbody>\n",
       "    <tr>\n",
       "      <th>0</th>\n",
       "      <td>Alabama</td>\n",
       "      <td>1987-01-01</td>\n",
       "      <td>1987</td>\n",
       "      <td>4015.264</td>\n",
       "      <td>47750.0</td>\n",
       "      <td>9.2</td>\n",
       "      <td>71032.0</td>\n",
       "    </tr>\n",
       "    <tr>\n",
       "      <th>1</th>\n",
       "      <td>Alabama</td>\n",
       "      <td>1987-02-01</td>\n",
       "      <td>1987</td>\n",
       "      <td>4015.264</td>\n",
       "      <td>47750.0</td>\n",
       "      <td>9.0</td>\n",
       "      <td>28758.0</td>\n",
       "    </tr>\n",
       "    <tr>\n",
       "      <th>2</th>\n",
       "      <td>Alabama</td>\n",
       "      <td>1987-03-01</td>\n",
       "      <td>1987</td>\n",
       "      <td>4015.264</td>\n",
       "      <td>47750.0</td>\n",
       "      <td>8.8</td>\n",
       "      <td>29053.0</td>\n",
       "    </tr>\n",
       "    <tr>\n",
       "      <th>3</th>\n",
       "      <td>Alabama</td>\n",
       "      <td>1987-04-01</td>\n",
       "      <td>1987</td>\n",
       "      <td>4015.264</td>\n",
       "      <td>47750.0</td>\n",
       "      <td>8.5</td>\n",
       "      <td>24599.0</td>\n",
       "    </tr>\n",
       "    <tr>\n",
       "      <th>4</th>\n",
       "      <td>Alabama</td>\n",
       "      <td>1987-05-01</td>\n",
       "      <td>1987</td>\n",
       "      <td>4015.264</td>\n",
       "      <td>47750.0</td>\n",
       "      <td>8.3</td>\n",
       "      <td>28278.0</td>\n",
       "    </tr>\n",
       "  </tbody>\n",
       "</table>\n",
       "</div>"
      ],
      "text/plain": [
       "     state      month  year  population  median_income  unemployment_rate  \\\n",
       "0  Alabama 1987-01-01  1987    4015.264        47750.0                9.2   \n",
       "1  Alabama 1987-02-01  1987    4015.264        47750.0                9.0   \n",
       "2  Alabama 1987-03-01  1987    4015.264        47750.0                8.8   \n",
       "3  Alabama 1987-04-01  1987    4015.264        47750.0                8.5   \n",
       "4  Alabama 1987-05-01  1987    4015.264        47750.0                8.3   \n",
       "\n",
       "   initial_claims  \n",
       "0         71032.0  \n",
       "1         28758.0  \n",
       "2         29053.0  \n",
       "3         24599.0  \n",
       "4         28278.0  "
      ]
     },
     "execution_count": 11,
     "metadata": {},
     "output_type": "execute_result"
    }
   ],
   "source": [
    "df_final.head()"
   ]
  },
  {
   "cell_type": "markdown",
   "id": "3972f259",
   "metadata": {},
   "source": [
    "# Labor Force Participation Rate"
   ]
  },
  {
   "cell_type": "code",
   "execution_count": 16,
   "id": "8ff44a5c",
   "metadata": {},
   "outputs": [],
   "source": [
    "lfp_list = []\n",
    "for state in states:\n",
    "    path = f\"../input_data/Labor Force Participation Rate for {state}.csv\"\n",
    "    df = pd.read_csv(path)\n",
    "    df = df.rename(columns={\n",
    "        'observation_date': 'month',\n",
    "        'lfp_rate':           'lfp_rate'\n",
    "    })\n",
    "    df['state'] = state\n",
    "    df['month'] = pd.to_datetime(df['month'], format='%Y/%m/%d')\n",
    "    lfp_list.append(df)\n",
    "\n",
    "df_lfp = pd.concat(lfp_list, ignore_index=True)\n",
    "df_lfp = df_lfp[['state','month','lfp_rate']]\n",
    "\n",
    "df_final = pd.merge(\n",
    "    df_final,\n",
    "    df_lfp,\n",
    "    on=['state','month'],\n",
    "    how='left'\n",
    ")"
   ]
  },
  {
   "cell_type": "code",
   "execution_count": 22,
   "id": "bd60f4f6",
   "metadata": {},
   "outputs": [
    {
     "name": "stdout",
     "output_type": "stream",
     "text": [
      "            state      month  population  median_income  initial_claims  \\\n",
      "1830   California 1987-07-01   27777.158        72940.0             NaN   \n",
      "5022       Hawaii 1987-07-01    1067.918        84740.0             NaN   \n",
      "12774      Nevada 1987-07-01    1023.376        65030.0             NaN   \n",
      "\n",
      "       unemployment_rate  lfp_rate  \n",
      "1830                 5.7      67.7  \n",
      "5022                 3.7      67.2  \n",
      "12774                6.2      72.9  \n"
     ]
    }
   ],
   "source": [
    "df_final = df_final[\n",
    "    [\n",
    "        'state',\n",
    "        'month',\n",
    "        'population',\n",
    "        'median_income',\n",
    "        'initial_claims',\n",
    "        'unemployment_rate',\n",
    "        'lfp_rate'\n",
    "    ]\n",
    "]\n",
    "print(df_final[df_final['initial_claims'].isnull()])"
   ]
  },
  {
   "cell_type": "code",
   "execution_count": 23,
   "id": "a8b9517c",
   "metadata": {},
   "outputs": [],
   "source": [
    "df_final['year'] = df_final['month'].dt.year\n",
    "state_year_means = df_final.groupby(['state', 'year'])['initial_claims'].transform('mean')\n",
    "df_final['initial_claims'] = df_final['initial_claims'].fillna(state_year_means)\n",
    "df_final['initial_claims'] = df_final['initial_claims'].astype(int)\n",
    "df_final = df_final.drop(columns=['year'])"
   ]
  },
  {
   "cell_type": "code",
   "execution_count": 25,
   "id": "9bba2548",
   "metadata": {},
   "outputs": [],
   "source": [
    "df_final.to_csv(\"../analysis_data/merged_data_US.csv\", index=False)"
   ]
  }
 ],
 "metadata": {
  "kernelspec": {
   "display_name": "new_env",
   "language": "python",
   "name": "python3"
  },
  "language_info": {
   "codemirror_mode": {
    "name": "ipython",
    "version": 3
   },
   "file_extension": ".py",
   "mimetype": "text/x-python",
   "name": "python",
   "nbconvert_exporter": "python",
   "pygments_lexer": "ipython3",
   "version": "3.13.5"
  }
 },
 "nbformat": 4,
 "nbformat_minor": 5
}
