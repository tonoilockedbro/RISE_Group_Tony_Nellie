{
 "cells": [
  {
   "cell_type": "code",
   "execution_count": 3,
   "id": "2fafb045",
   "metadata": {},
   "outputs": [],
   "source": [
    "import pandas as pd\n",
    "import numpy as np\n",
    "from sklearn.preprocessing import MinMaxScaler\n",
    "from sklearn.metrics import mean_squared_error, r2_score\n",
    "from keras.models import Sequential\n",
    "from keras.layers import Dense, Input\n",
    "from keras.callbacks import EarlyStopping\n",
    "from tcn import TCN\n",
    "import matplotlib.pyplot as plt"
   ]
  },
  {
   "cell_type": "code",
   "execution_count": 4,
   "id": "8cab9c79",
   "metadata": {},
   "outputs": [],
   "source": [
    "df = pd.read_csv(\"Tony_data/merged_data.csv\", parse_dates=[\"month\"])\n",
    "df = df.dropna(subset=[\"Unemployment Rate\"])  # ensure target exists\n",
    "\n",
    "# Standardize column names\n",
    "df = df.rename(columns={\n",
    "    \"Unemployment Rate\": \"unemployment_rate\",\n",
    "    \"median_income\": \"median_income\",\n",
    "    \"lfp_rate\": \"lfp_rate\",\n",
    "    \"initial_claims\": \"initial_claims\",\n",
    "    \"population\": \"population\"\n",
    "})\n",
    "\n",
    "feature_cols = [\"median_income\", \"lfp_rate\", \"initial_claims\", \"population\", \"unemployment_rate\"]"
   ]
  },
  {
   "cell_type": "code",
   "execution_count": 5,
   "id": "a9f605eb",
   "metadata": {},
   "outputs": [],
   "source": [
    "def create_sequences(data, window):\n",
    "    X, y = [], []\n",
    "    for i in range(len(data) - window):\n",
    "        X.append(data[i:i+window, :-1])\n",
    "        y.append(data[i+window, -1])\n",
    "    return np.array(X), np.array(y)\n",
    "\n",
    "def TCN_model(X_shape:tuple, patience=None):\n",
    "    model = Sequential()\n",
    "    model.add(Input(shape=(X_shape[1], X_shape[2])))\n",
    "    model.add(TCN(nb_filters=64,\n",
    "                  kernel_size=3,\n",
    "                  nb_stacks=1,\n",
    "                  dilations=[1, 2, 4, 8],\n",
    "                  use_layer_norm=True,\n",
    "                  dropout_rate=0.02,\n",
    "                  kernel_initializer='glorot_uniform'))\n",
    "    model.add(Dense(1))\n",
    "    model.compile(optimizer='adam', loss='mse')\n",
    "    if patience:\n",
    "        early_stop = EarlyStopping(monitor='val_loss', patience=patience, restore_best_weights=True)\n",
    "        return model, early_stop\n",
    "    else:\n",
    "        return model, None\n",
    "\n"
   ]
  },
  {
   "cell_type": "code",
   "execution_count": null,
   "id": "ef5ef5d2",
   "metadata": {},
   "outputs": [
    {
     "name": "stderr",
     "output_type": "stream",
     "text": [
      "2025-07-29 16:23:47.999498: I metal_plugin/src/device/metal_device.cc:1154] Metal device set to: Apple M1\n",
      "2025-07-29 16:23:47.999630: I metal_plugin/src/device/metal_device.cc:296] systemMemory: 8.00 GB\n",
      "2025-07-29 16:23:47.999638: I metal_plugin/src/device/metal_device.cc:313] maxCacheSize: 2.67 GB\n",
      "WARNING: All log messages before absl::InitializeLog() is called are written to STDERR\n",
      "I0000 00:00:1753820627.999805 4931034 pluggable_device_factory.cc:305] Could not identify NUMA node of platform GPU ID 0, defaulting to 0. Your kernel may not have been built with NUMA support.\n",
      "I0000 00:00:1753820628.000014 4931034 pluggable_device_factory.cc:271] Created TensorFlow device (/job:localhost/replica:0/task:0/device:GPU:0 with 0 MB memory) -> physical PluggableDevice (device: 0, name: METAL, pci bus id: <undefined>)\n",
      "2025-07-29 16:23:49.632077: I tensorflow/core/grappler/optimizers/custom_graph_optimizer_registry.cc:117] Plugin optimizer for device_type GPU is enabled.\n"
     ]
    },
    {
     "name": "stdout",
     "output_type": "stream",
     "text": [
      "\u001b[1m2/2\u001b[0m \u001b[32m━━━━━━━━━━━━━━━━━━━━\u001b[0m\u001b[37m\u001b[0m \u001b[1m1s\u001b[0m 763ms/step\n",
      "✓ Done: Alabama | RMSE: 0.0375 | R²: -0.3014\n",
      "\u001b[1m2/2\u001b[0m \u001b[32m━━━━━━━━━━━━━━━━━━━━\u001b[0m\u001b[37m\u001b[0m \u001b[1m2s\u001b[0m 960ms/step\n",
      "✓ Done: Alaska | RMSE: 0.0830 | R²: 0.3826\n",
      "WARNING:tensorflow:5 out of the last 5 calls to <function TensorFlowTrainer.make_predict_function.<locals>.one_step_on_data_distributed at 0x39527d940> triggered tf.function retracing. Tracing is expensive and the excessive number of tracings could be due to (1) creating @tf.function repeatedly in a loop, (2) passing tensors with different shapes, (3) passing Python objects instead of tensors. For (1), please define your @tf.function outside of the loop. For (2), @tf.function has reduce_retracing=True option that can avoid unnecessary retracing. For (3), please refer to https://www.tensorflow.org/guide/function#controlling_retracing and https://www.tensorflow.org/api_docs/python/tf/function for  more details.\n",
      "\u001b[1m1/2\u001b[0m \u001b[32m━━━━━━━━━━\u001b[0m\u001b[37m━━━━━━━━━━\u001b[0m \u001b[1m0s\u001b[0m 906ms/stepWARNING:tensorflow:6 out of the last 6 calls to <function TensorFlowTrainer.make_predict_function.<locals>.one_step_on_data_distributed at 0x39527d940> triggered tf.function retracing. Tracing is expensive and the excessive number of tracings could be due to (1) creating @tf.function repeatedly in a loop, (2) passing tensors with different shapes, (3) passing Python objects instead of tensors. For (1), please define your @tf.function outside of the loop. For (2), @tf.function has reduce_retracing=True option that can avoid unnecessary retracing. For (3), please refer to https://www.tensorflow.org/guide/function#controlling_retracing and https://www.tensorflow.org/api_docs/python/tf/function for  more details.\n",
      "\u001b[1m2/2\u001b[0m \u001b[32m━━━━━━━━━━━━━━━━━━━━\u001b[0m\u001b[37m\u001b[0m \u001b[1m2s\u001b[0m 1s/step  \n",
      "✓ Done: Arizona | RMSE: 0.1027 | R²: -3.0890\n",
      "\u001b[1m2/2\u001b[0m \u001b[32m━━━━━━━━━━━━━━━━━━━━\u001b[0m\u001b[37m\u001b[0m \u001b[1m2s\u001b[0m 1s/step\n",
      "✓ Done: Arkansas | RMSE: 0.0846 | R²: -1.8899\n",
      "\u001b[1m2/2\u001b[0m \u001b[32m━━━━━━━━━━━━━━━━━━━━\u001b[0m\u001b[37m\u001b[0m \u001b[1m2s\u001b[0m 1s/step\n",
      "✓ Done: California | RMSE: 0.0733 | R²: 0.2931\n",
      "\u001b[1m2/2\u001b[0m \u001b[32m━━━━━━━━━━━━━━━━━━━━\u001b[0m\u001b[37m\u001b[0m \u001b[1m2s\u001b[0m 1s/step\n",
      "✓ Done: Colorado | RMSE: 0.1481 | R²: -1.2543\n",
      "\u001b[1m2/2\u001b[0m \u001b[32m━━━━━━━━━━━━━━━━━━━━\u001b[0m\u001b[37m\u001b[0m \u001b[1m3s\u001b[0m 2s/step\n",
      "✓ Done: Connecticut | RMSE: 0.1405 | R²: -0.2711\n"
     ]
    }
   ],
   "source": [
    "\n",
    "window = 12\n",
    "results = []\n",
    "\n",
    "for state in df['state'].unique():\n",
    "    try:\n",
    "        df_state = df[df['state'] == state].sort_values('month')\n",
    "        if df_state[feature_cols].isnull().any().any():\n",
    "            continue  # skip if still has NaNs\n",
    "\n",
    "        scaler = MinMaxScaler()\n",
    "        scaled = scaler.fit_transform(df_state[feature_cols])\n",
    "        X, y = create_sequences(scaled, window)\n",
    "\n",
    "        split1 = int(len(X) * 0.9)\n",
    "        X_train, y_train = X[:split1], y[:split1]\n",
    "        X_test, y_test = X[split1:], y[split1:]\n",
    "\n",
    "        model, early_stop = TCN_model(X_train.shape, patience=3)\n",
    "        model.fit(X_train, y_train, epochs=30, batch_size=16,\n",
    "                  validation_data=(X_test, y_test),\n",
    "                  callbacks=[early_stop] if early_stop else None,\n",
    "                  verbose=0)\n",
    "\n",
    "        y_pred = model.predict(X_test)\n",
    "        rmse = np.sqrt(mean_squared_error(y_test, y_pred))\n",
    "        r2 = r2_score(y_test, y_pred)\n",
    "\n",
    "        results.append({\n",
    "            'state': state,\n",
    "            'RMSE': rmse,\n",
    "            'R2': r2\n",
    "        })\n",
    "\n",
    "        print(f\"✓ Done: {state} | RMSE: {rmse:.4f} | R²: {r2:.4f}\")\n",
    "\n",
    "    except Exception as e:\n",
    "        print(f\"✗ Error in {state}: {e}\")\n",
    "\n",
    "df_results = pd.DataFrame(results).sort_values(\"RMSE\", ascending=True)\n",
    "\n",
    "\n"
   ]
  },
  {
   "cell_type": "code",
   "execution_count": null,
   "id": "7ea1fe75",
   "metadata": {},
   "outputs": [
    {
     "ename": "NameError",
     "evalue": "name 'df_results' is not defined",
     "output_type": "error",
     "traceback": [
      "\u001b[31m---------------------------------------------------------------------------\u001b[39m",
      "\u001b[31mNameError\u001b[39m                                 Traceback (most recent call last)",
      "\u001b[36mCell\u001b[39m\u001b[36m \u001b[39m\u001b[32mIn[2]\u001b[39m\u001b[32m, line 3\u001b[39m\n\u001b[32m      1\u001b[39m \u001b[38;5;66;03m# RMSE Plot\u001b[39;00m\n\u001b[32m      2\u001b[39m plt.figure(figsize=(\u001b[32m14\u001b[39m, \u001b[32m5\u001b[39m))\n\u001b[32m----> \u001b[39m\u001b[32m3\u001b[39m plt.bar(df_results[\u001b[33m'\u001b[39m\u001b[33mstate\u001b[39m\u001b[33m'\u001b[39m], df_results[\u001b[33m'\u001b[39m\u001b[33mRMSE\u001b[39m\u001b[33m'\u001b[39m])\n\u001b[32m      4\u001b[39m plt.xticks(rotation=\u001b[32m90\u001b[39m)\n\u001b[32m      5\u001b[39m plt.title(\u001b[33m\"\u001b[39m\u001b[33mTCN RMSE per State\u001b[39m\u001b[33m\"\u001b[39m)\n",
      "\u001b[31mNameError\u001b[39m: name 'df_results' is not defined"
     ]
    },
    {
     "data": {
      "text/plain": [
       "<Figure size 1400x500 with 0 Axes>"
      ]
     },
     "metadata": {},
     "output_type": "display_data"
    }
   ],
   "source": [
    "\n",
    "# RMSE Plot\n",
    "plt.figure(figsize=(14, 5))\n",
    "plt.bar(df_results['state'], df_results['RMSE'])\n",
    "plt.xticks(rotation=90)\n",
    "plt.title(\"TCN RMSE per State\")\n",
    "plt.ylabel(\"RMSE\")\n",
    "plt.tight_layout()\n",
    "plt.show()\n",
    "\n",
    "# R² Plot\n",
    "plt.figure(figsize=(14, 5))\n",
    "plt.bar(df_results['state'], df_results['R2'])\n",
    "plt.xticks(rotation=90)\n",
    "plt.title(\"TCN R² Score per State\")\n",
    "plt.ylabel(\"R²\")\n",
    "plt.tight_layout()\n",
    "plt.show()\n",
    "\n"
   ]
  }
 ],
 "metadata": {
  "kernelspec": {
   "display_name": "RISE_PROJECT",
   "language": "python",
   "name": "python3"
  },
  "language_info": {
   "codemirror_mode": {
    "name": "ipython",
    "version": 3
   },
   "file_extension": ".py",
   "mimetype": "text/x-python",
   "name": "python",
   "nbconvert_exporter": "python",
   "pygments_lexer": "ipython3",
   "version": "3.11.13"
  }
 },
 "nbformat": 4,
 "nbformat_minor": 5
}
